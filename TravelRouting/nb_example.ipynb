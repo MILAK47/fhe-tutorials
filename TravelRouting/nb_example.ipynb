{
 "cells": [
  {
   "cell_type": "code",
   "execution_count": 1,
   "metadata": {},
   "outputs": [],
   "source": [
    "from dijkstra import Dijkstra\n",
    "from routing import select_path, shortest_path_from_first\n",
    "from knn import knn\n",
    "\n",
    "from concrete import fhe"
   ]
  },
  {
   "cell_type": "code",
   "execution_count": 2,
   "metadata": {},
   "outputs": [],
   "source": [
    "def reconstruct_path(previous):\n",
    "    path = []\n",
    "    current = len(previous) - 1\n",
    "    while current > 0:\n",
    "        path.append(current)\n",
    "        current = previous[current]\n",
    "    path.append(0)\n",
    "    return path[::-1]"
   ]
  },
  {
   "cell_type": "code",
   "execution_count": 3,
   "metadata": {},
   "outputs": [],
   "source": [
    "# 9 represents inf\n",
    "inf = 9\n",
    "weights = [[0, 1, 2, inf],\n",
    "           [1, 0, 3, 3],\n",
    "           [2, 3, 0, 2],\n",
    "           [inf, 3, 2, 0]]"
   ]
  },
  {
   "cell_type": "code",
   "execution_count": 4,
   "metadata": {},
   "outputs": [],
   "source": [
    "# Shortest-path with hidden graph\n",
    "compiler = fhe.Compiler(shortest_path_from_first, {\"weights\": \"encrypted\"})\n",
    "shortest_path_from_first_circuit = compiler.compile([(weights)])"
   ]
  },
  {
   "cell_type": "code",
   "execution_count": 5,
   "metadata": {},
   "outputs": [
    {
     "data": {
      "text/plain": [
       "array([0, 0, 0, 1], dtype=uint64)"
      ]
     },
     "execution_count": 5,
     "metadata": {},
     "output_type": "execute_result"
    }
   ],
   "source": [
    "shortest_path_from_first_circuit.encrypt_run_decrypt(weights)"
   ]
  },
  {
   "cell_type": "code",
   "execution_count": 6,
   "metadata": {},
   "outputs": [
    {
     "data": {
      "text/plain": [
       "[0, 1, 3]"
      ]
     },
     "execution_count": 6,
     "metadata": {},
     "output_type": "execute_result"
    }
   ],
   "source": [
    "reconstruct_path(shortest_path_from_first_circuit.encrypt_run_decrypt(weights))"
   ]
  },
  {
   "cell_type": "code",
   "execution_count": 7,
   "metadata": {},
   "outputs": [
    {
     "data": {
      "text/plain": [
       "array([[[0, 0, 0],\n",
       "        [0, 1, 0],\n",
       "        [0, 2, 0],\n",
       "        [0, 1, 3]],\n",
       "\n",
       "       [[1, 0, 1],\n",
       "        [1, 1, 1],\n",
       "        [1, 2, 1],\n",
       "        [1, 3, 1]],\n",
       "\n",
       "       [[2, 0, 2],\n",
       "        [2, 1, 2],\n",
       "        [2, 2, 2],\n",
       "        [2, 3, 2]],\n",
       "\n",
       "       [[3, 2, 0],\n",
       "        [3, 1, 3],\n",
       "        [3, 2, 3],\n",
       "        [3, 3, 3]]])"
      ]
     },
     "execution_count": 7,
     "metadata": {},
     "output_type": "execute_result"
    }
   ],
   "source": [
    "# Server's map data\n",
    "dijkstra = Dijkstra(weights)\n",
    "paths = dijkstra.get_all_shortest_paths()\n",
    "paths"
   ]
  },
  {
   "cell_type": "code",
   "execution_count": 8,
   "metadata": {},
   "outputs": [],
   "source": [
    "# Client's selection\n",
    "start = [1, 0, 0, 0]\n",
    "end = [0, 0, 0, 1]"
   ]
  },
  {
   "cell_type": "code",
   "execution_count": 9,
   "metadata": {},
   "outputs": [],
   "source": [
    "compiler = fhe.Compiler(select_path, {\"paths\": \"clear\", \"origin\": \"encrypted\", \"destination\": \"encrypted\"})\n",
    "select_path_circuit = compiler.compile([(paths, start, end)])"
   ]
  },
  {
   "cell_type": "code",
   "execution_count": 10,
   "metadata": {},
   "outputs": [
    {
     "data": {
      "text/plain": [
       "array([0, 1, 3], dtype=uint64)"
      ]
     },
     "execution_count": 10,
     "metadata": {},
     "output_type": "execute_result"
    }
   ],
   "source": [
    "select_path_circuit.encrypt_run_decrypt(paths, start, end)"
   ]
  },
  {
   "cell_type": "markdown",
   "metadata": {},
   "source": [
    "# KNN"
   ]
  },
  {
   "cell_type": "code",
   "execution_count": 11,
   "metadata": {},
   "outputs": [
    {
     "data": {
      "text/plain": [
       "array([1, 0, 3, 3])"
      ]
     },
     "execution_count": 11,
     "metadata": {},
     "output_type": "execute_result"
    }
   ],
   "source": [
    "distances, _ = dijkstra.shortest_from_origin(1)\n",
    "distances = distances.astype(int)\n",
    "distances"
   ]
  },
  {
   "cell_type": "code",
   "execution_count": 12,
   "metadata": {},
   "outputs": [
    {
     "data": {
      "text/plain": [
       "array([1, 1, 0, 0])"
      ]
     },
     "execution_count": 12,
     "metadata": {},
     "output_type": "execute_result"
    }
   ],
   "source": [
    "knn(distances)"
   ]
  },
  {
   "cell_type": "code",
   "execution_count": 13,
   "metadata": {},
   "outputs": [],
   "source": [
    "compiler = fhe.Compiler(knn, {\"distances\": \"encrypted\"})\n",
    "knn_circuit = compiler.compile([distances])"
   ]
  },
  {
   "cell_type": "code",
   "execution_count": 14,
   "metadata": {},
   "outputs": [
    {
     "data": {
      "text/plain": [
       "array([1, 1, 0, 0], dtype=uint64)"
      ]
     },
     "execution_count": 14,
     "metadata": {},
     "output_type": "execute_result"
    }
   ],
   "source": [
    "knn_circuit.encrypt_run_decrypt(distances)"
   ]
  }
 ],
 "metadata": {
  "kernelspec": {
   "display_name": "Python 3 (ipykernel)",
   "language": "python",
   "name": "python3"
  },
  "language_info": {
   "codemirror_mode": {
    "name": "ipython",
    "version": 3
   },
   "file_extension": ".py",
   "mimetype": "text/x-python",
   "name": "python",
   "nbconvert_exporter": "python",
   "pygments_lexer": "ipython3",
   "version": "3.10.6"
  }
 },
 "nbformat": 4,
 "nbformat_minor": 4
}
