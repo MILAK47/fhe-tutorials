{
 "cells": [
  {
   "cell_type": "markdown",
   "id": "571c845b-d9df-495d-a33b-e607008d15e4",
   "metadata": {},
   "source": [
    "# KNN"
   ]
  },
  {
   "cell_type": "code",
   "execution_count": 145,
   "id": "b68fa100-ab41-4e0c-8e38-858e53700fde",
   "metadata": {},
   "outputs": [],
   "source": [
    "from concrete import fhe\n",
    "import numpy as np\n",
    "from functools import reduce\n",
    "\n",
    "from knn import knn"
   ]
  },
  {
   "cell_type": "code",
   "execution_count": 146,
   "id": "0cbbcee4-600b-4169-9421-784bd1989fde",
   "metadata": {},
   "outputs": [],
   "source": [
    "a = (np.random.rand(5) * 9).astype(int)"
   ]
  },
  {
   "cell_type": "code",
   "execution_count": 147,
   "id": "1b8e87e6-93d5-4d87-b4bd-c88867474f34",
   "metadata": {},
   "outputs": [
    {
     "data": {
      "text/plain": [
       "array([7, 3, 3, 4, 5])"
      ]
     },
     "execution_count": 147,
     "metadata": {},
     "output_type": "execute_result"
    }
   ],
   "source": [
    "a"
   ]
  },
  {
   "cell_type": "code",
   "execution_count": 148,
   "id": "e0f5a17c-cfb3-4a6a-a27f-0ab566560192",
   "metadata": {},
   "outputs": [
    {
     "data": {
      "text/plain": [
       "array([0, 1, 1, 1, 1])"
      ]
     },
     "execution_count": 148,
     "metadata": {},
     "output_type": "execute_result"
    }
   ],
   "source": [
    "knn(a)"
   ]
  },
  {
   "cell_type": "code",
   "execution_count": null,
   "id": "b5c0c6b4-1b02-409c-a6d5-f588315a779c",
   "metadata": {},
   "outputs": [],
   "source": [
    "compiler = fhe.Compiler(knn, {\"array\": \"encrypted\"})\n",
    "circuit = compiler.compile([(a)])"
   ]
  },
  {
   "cell_type": "code",
   "execution_count": null,
   "id": "ded5879d-037b-4e25-9734-59421f014794",
   "metadata": {},
   "outputs": [],
   "source": [
    "circuit.encrypt_run_decrypt(a)"
   ]
  }
 ],
 "metadata": {
  "kernelspec": {
   "display_name": "Python 3 (ipykernel)",
   "language": "python",
   "name": "python3"
  },
  "language_info": {
   "codemirror_mode": {
    "name": "ipython",
    "version": 3
   },
   "file_extension": ".py",
   "mimetype": "text/x-python",
   "name": "python",
   "nbconvert_exporter": "python",
   "pygments_lexer": "ipython3",
   "version": "3.10.6"
  }
 },
 "nbformat": 4,
 "nbformat_minor": 5
}
