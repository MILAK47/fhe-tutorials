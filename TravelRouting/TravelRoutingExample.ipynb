{
 "cells": [
  {
   "cell_type": "markdown",
   "metadata": {},
   "source": [
    "# Travel Routing Example"
   ]
  },
  {
   "cell_type": "code",
   "execution_count": null,
   "metadata": {},
   "outputs": [],
   "source": [
    "import numpy\n",
    "from concrete import fhe"
   ]
  },
  {
   "cell_type": "markdown",
   "metadata": {},
   "source": [
    "## Setting up Server Data\n",
    "\n",
    "The server owns map data.\n",
    "The routes network is represented by its weighted adjacency matrix W: $W_{i, j}$ is the distance between nodes $i$ and $j$ if there is an edge between them, and infinity otherwise."
   ]
  },
  {
   "cell_type": "code",
   "execution_count": null,
   "metadata": {},
   "outputs": [],
   "source": [
    "N_BITS = 6\n",
    "inf = 2**N_BITS - 1  # infinity\n",
    "# Origin x Destination -> Weight of edge (infinite if no edge)\n",
    "weights = numpy.array([\n",
    "    [  0,   1,   2, inf, inf, inf, inf, inf, inf, ],\n",
    "    [  1,   0, inf,   1,   1, inf, inf, inf, inf, ],\n",
    "    [  2, inf,   0, inf, inf,   1,   1, inf, inf, ],\n",
    "    [inf,   1, inf,   0, inf,   1, inf, inf, inf, ],\n",
    "    [inf,   1, inf, inf,   0,   1, inf,   1, inf, ],\n",
    "    [inf, inf,   1,   1,   1,   0, inf, inf,   2, ],\n",
    "    [inf, inf,   1, inf, inf, inf,   0, inf,   1, ],\n",
    "    [inf, inf, inf, inf,   1, inf, inf,   0,   1, ],\n",
    "    [inf, inf, inf, inf, inf,   2,   1,   1,   0, ],\n",
    "])\n",
    "N_NODES = weights.shape[0]\n",
    "assert weights.shape[0] == weights.shape[1]\n",
    "assert (weights == weights.T).all()\n",
    "assert (weights.diagonal() == 0).all()"
   ]
  },
  {
   "cell_type": "markdown",
   "metadata": {},
   "source": [
    "The server than pre-computes shortest paths between all OD pairs (origin and destination). The routing information is stored in a matrix M: $M_{i,j}$ is the next node to visit on the shortest path from node $i$ to node $j$."
   ]
  },
  {
   "cell_type": "code",
   "execution_count": null,
   "metadata": {},
   "outputs": [],
   "source": [
    "from dijkstra import Dijkstra\n",
    "router = Dijkstra(weights)\n",
    "# Matrix of origin x destination -> next node on shortest path\n",
    "next_nodes = router.get_all_shortest_paths()[:, :, 1]"
   ]
  },
  {
   "cell_type": "markdown",
   "metadata": {},
   "source": [
    "Private Travel Routing than consist of oblivious transfer of an element of $M$. This is done in Zama via a TableLookup of the flatten matrix $M$."
   ]
  },
  {
   "cell_type": "code",
   "execution_count": null,
   "metadata": {},
   "outputs": [],
   "source": [
    "routes = fhe.LookupTable(next_nodes.flatten())\n",
    "\n",
    "@fhe.compiler({\"origin\": \"encrypted\", \"destination\": \"encrypted\"})\n",
    "def route(origin, destination):\n",
    "    return routes[N_NODES * origin + destination]\n",
    "\n",
    "\n",
    "circuit = route.compile([(0, N_NODES - 1), (N_NODES - 1, 0)])"
   ]
  },
  {
   "cell_type": "markdown",
   "metadata": {},
   "source": [
    "## Client\n",
    "\n",
    "The client can stream the routing information privately by requesting the next node iteratively. For maximum privacy, the client can keep asking for next nodes even once the full shortest path is retrieved to hide information about the length of the route. "
   ]
  },
  {
   "cell_type": "code",
   "execution_count": null,
   "metadata": {},
   "outputs": [],
   "source": [
    "circuit.client.keys.generate()\n",
    "\n",
    "\n",
    "def shortest_path(origin, destination):\n",
    "    path = [origin, ]\n",
    "    o, d = circuit.encrypt(origin, destination)\n",
    "    for _ in range(N_NODES - 1):\n",
    "        # Careful: breaking early could lead to information leak\n",
    "        # if origin == destination:\n",
    "        #     break\n",
    "        o = circuit.run(o, d)\n",
    "        origin = circuit.decrypt(o)\n",
    "        path.append(origin)\n",
    "    return path"
   ]
  },
  {
   "cell_type": "markdown",
   "metadata": {},
   "source": [
    "## Benchmarks"
   ]
  },
  {
   "cell_type": "code",
   "execution_count": null,
   "metadata": {},
   "outputs": [],
   "source": [
    "%%timeit\n",
    "shortest_path(0, 7)"
   ]
  }
 ],
 "metadata": {
  "kernelspec": {
   "display_name": "venv",
   "language": "python",
   "name": "venv"
  },
  "language_info": {
   "codemirror_mode": {
    "name": "ipython",
    "version": 3
   },
   "file_extension": ".py",
   "mimetype": "text/x-python",
   "name": "python",
   "nbconvert_exporter": "python",
   "pygments_lexer": "ipython3",
   "version": "3.10.6"
  }
 },
 "nbformat": 4,
 "nbformat_minor": 4
}
