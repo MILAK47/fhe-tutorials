{
 "cells": [
  {
   "cell_type": "markdown",
   "id": "571c845b-d9df-495d-a33b-e607008d15e4",
   "metadata": {},
   "source": [
    "# KNN"
   ]
  },
  {
   "cell_type": "code",
   "execution_count": 145,
   "id": "b68fa100-ab41-4e0c-8e38-858e53700fde",
   "metadata": {},
   "outputs": [],
   "source": [
    "from concrete import fhe\n",
    "import numpy as np\n",
    "from functools import reduce\n",
    "\n",
    "from knn import knn"
   ]
  },
  {
   "cell_type": "code",
   "execution_count": 178,
   "id": "9148a728-e68c-4e57-b19c-98a3cacea345",
   "metadata": {},
   "outputs": [],
   "source": [
    "from concrete import fhe\n",
    "import numpy as np\n",
    "from functools import reduce\n",
    "\n",
    "def min_int(x: int, y: int) -> int:\n",
    "    \"\"\"concrete-numpy doesn't yet support min, we have to implement one using\n",
    "    only supported operations\"\"\"\n",
    "    return (x + y - abs(x - y)) // 2\n",
    "\n",
    "def min_int_array(a) -> int:\n",
    "    \"\"\"Return the minimum value of an array of ints using the `min_int` function\"\"\"\n",
    "    return reduce(min_int, a)\n",
    "\n",
    "def knn(distances, k):\n",
    "    \"\"\"Return the index of the K minimum values (nearest neighbors) from the distances array\n",
    "    \n",
    "    The output is an array with zeros but ones at the indexes of the K min values\n",
    "    Note that the function could return more that K element if there are equal values\n",
    "    \"\"\"\n",
    "    # if k is a parameter, we get: TypeError: 'Tracer' object cannot be interpreted as an integer\n",
    "    # k = 3\n",
    "    inf = 9\n",
    "    N, = distances.shape\n",
    "    result = [0] * N\n",
    "\n",
    "    for _ in range(k):\n",
    "        # Get the minimum value of the array\n",
    "        minimum = min_int_array(distances)\n",
    "        # Get a selector for the value\n",
    "        minimum_selector = distances == minimum\n",
    "        # Add the selected index to the result array\n",
    "        result = result | minimum_selector\n",
    "        # Get a selector for the remaining element\n",
    "        remaining_selector = (np.logical_not(minimum_selector.astype(bool))).astype(int)\n",
    "        # set the selected value to inf\n",
    "        distances = distances * remaining_selector + minimum_selector*inf\n",
    "    \n",
    "    return result\n",
    "\n"
   ]
  },
  {
   "cell_type": "code",
   "execution_count": 179,
   "id": "0cbbcee4-600b-4169-9421-784bd1989fde",
   "metadata": {},
   "outputs": [],
   "source": [
    "a = (np.random.rand(5) * 9).astype(int)"
   ]
  },
  {
   "cell_type": "code",
   "execution_count": 180,
   "id": "1b8e87e6-93d5-4d87-b4bd-c88867474f34",
   "metadata": {},
   "outputs": [
    {
     "data": {
      "text/plain": [
       "array([7, 7, 2, 2, 6])"
      ]
     },
     "execution_count": 180,
     "metadata": {},
     "output_type": "execute_result"
    }
   ],
   "source": [
    "a"
   ]
  },
  {
   "cell_type": "code",
   "execution_count": 181,
   "id": "e0f5a17c-cfb3-4a6a-a27f-0ab566560192",
   "metadata": {},
   "outputs": [
    {
     "data": {
      "text/plain": [
       "array([0, 0, 1, 1, 1])"
      ]
     },
     "execution_count": 181,
     "metadata": {},
     "output_type": "execute_result"
    }
   ],
   "source": [
    "knn(a, 2)"
   ]
  },
  {
   "cell_type": "code",
   "execution_count": 182,
   "id": "b5c0c6b4-1b02-409c-a6d5-f588315a779c",
   "metadata": {},
   "outputs": [
    {
     "ename": "TypeError",
     "evalue": "'Tracer' object cannot be interpreted as an integer",
     "output_type": "error",
     "traceback": [
      "\u001b[0;31m---------------------------------------------------------------------------\u001b[0m",
      "\u001b[0;31mTypeError\u001b[0m                                 Traceback (most recent call last)",
      "Cell \u001b[0;32mIn[182], line 2\u001b[0m\n\u001b[1;32m      1\u001b[0m compiler \u001b[38;5;241m=\u001b[39m fhe\u001b[38;5;241m.\u001b[39mCompiler(knn, {\u001b[38;5;124m\"\u001b[39m\u001b[38;5;124mdistances\u001b[39m\u001b[38;5;124m\"\u001b[39m: \u001b[38;5;124m\"\u001b[39m\u001b[38;5;124mencrypted\u001b[39m\u001b[38;5;124m\"\u001b[39m, \u001b[38;5;124m\"\u001b[39m\u001b[38;5;124mk\u001b[39m\u001b[38;5;124m\"\u001b[39m: \u001b[38;5;124m\"\u001b[39m\u001b[38;5;124mclear\u001b[39m\u001b[38;5;124m\"\u001b[39m})\n\u001b[0;32m----> 2\u001b[0m circuit \u001b[38;5;241m=\u001b[39m \u001b[43mcompiler\u001b[49m\u001b[38;5;241;43m.\u001b[39;49m\u001b[43mcompile\u001b[49m\u001b[43m(\u001b[49m\u001b[43m[\u001b[49m\u001b[43m(\u001b[49m\u001b[43ma\u001b[49m\u001b[43m,\u001b[49m\u001b[43m \u001b[49m\u001b[38;5;241;43m2\u001b[39;49m\u001b[43m)\u001b[49m\u001b[43m]\u001b[49m\u001b[43m)\u001b[49m\n",
      "File \u001b[0;32m~/workspace/fhe-tutorials/TravelRouting/venv/lib/python3.10/site-packages/concrete/fhe/compilation/compiler.py:434\u001b[0m, in \u001b[0;36mCompiler.compile\u001b[0;34m(self, inputset, configuration, artifacts, **kwargs)\u001b[0m\n\u001b[1;32m    425\u001b[0m \u001b[38;5;28mself\u001b[39m\u001b[38;5;241m.\u001b[39martifacts \u001b[38;5;241m=\u001b[39m (\n\u001b[1;32m    426\u001b[0m     artifacts\n\u001b[1;32m    427\u001b[0m     \u001b[38;5;28;01mif\u001b[39;00m artifacts \u001b[38;5;129;01mis\u001b[39;00m \u001b[38;5;129;01mnot\u001b[39;00m \u001b[38;5;28;01mNone\u001b[39;00m\n\u001b[0;32m   (...)\u001b[0m\n\u001b[1;32m    430\u001b[0m     \u001b[38;5;28;01melse\u001b[39;00m \u001b[38;5;28;01mNone\u001b[39;00m\n\u001b[1;32m    431\u001b[0m )\n\u001b[1;32m    433\u001b[0m \u001b[38;5;28;01mtry\u001b[39;00m:\n\u001b[0;32m--> 434\u001b[0m     \u001b[38;5;28;43mself\u001b[39;49m\u001b[38;5;241;43m.\u001b[39;49m\u001b[43m_evaluate\u001b[49m\u001b[43m(\u001b[49m\u001b[38;5;124;43m\"\u001b[39;49m\u001b[38;5;124;43mCompiling\u001b[39;49m\u001b[38;5;124;43m\"\u001b[39;49m\u001b[43m,\u001b[49m\u001b[43m \u001b[49m\u001b[43minputset\u001b[49m\u001b[43m)\u001b[49m\n\u001b[1;32m    435\u001b[0m     \u001b[38;5;28;01massert\u001b[39;00m \u001b[38;5;28mself\u001b[39m\u001b[38;5;241m.\u001b[39mgraph \u001b[38;5;129;01mis\u001b[39;00m \u001b[38;5;129;01mnot\u001b[39;00m \u001b[38;5;28;01mNone\u001b[39;00m\n\u001b[1;32m    437\u001b[0m     mlir \u001b[38;5;241m=\u001b[39m GraphConverter()\u001b[38;5;241m.\u001b[39mconvert(\u001b[38;5;28mself\u001b[39m\u001b[38;5;241m.\u001b[39mgraph, \u001b[38;5;28mself\u001b[39m\u001b[38;5;241m.\u001b[39mconfiguration)\n",
      "File \u001b[0;32m~/workspace/fhe-tutorials/TravelRouting/venv/lib/python3.10/site-packages/concrete/fhe/compilation/compiler.py:279\u001b[0m, in \u001b[0;36mCompiler._evaluate\u001b[0;34m(self, action, inputset)\u001b[0m\n\u001b[1;32m    273\u001b[0m         message \u001b[38;5;241m=\u001b[39m (\n\u001b[1;32m    274\u001b[0m             \u001b[38;5;124mf\u001b[39m\u001b[38;5;124m\"\u001b[39m\u001b[38;5;132;01m{\u001b[39;00maction\u001b[38;5;132;01m}\u001b[39;00m\u001b[38;5;124m function \u001b[39m\u001b[38;5;124m'\u001b[39m\u001b[38;5;132;01m{\u001b[39;00m\u001b[38;5;28mself\u001b[39m\u001b[38;5;241m.\u001b[39mfunction\u001b[38;5;241m.\u001b[39m\u001b[38;5;18m__name__\u001b[39m\u001b[38;5;132;01m}\u001b[39;00m\u001b[38;5;124m'\u001b[39m\u001b[38;5;124m \u001b[39m\u001b[38;5;124m\"\u001b[39m\n\u001b[1;32m    275\u001b[0m             \u001b[38;5;124mf\u001b[39m\u001b[38;5;124m\"\u001b[39m\u001b[38;5;124mwithout an inputset is not supported\u001b[39m\u001b[38;5;124m\"\u001b[39m\n\u001b[1;32m    276\u001b[0m         )\n\u001b[1;32m    277\u001b[0m         \u001b[38;5;28;01mraise\u001b[39;00m \u001b[38;5;167;01mRuntimeError\u001b[39;00m(message) \u001b[38;5;28;01mfrom\u001b[39;00m \u001b[38;5;21;01merror\u001b[39;00m\n\u001b[0;32m--> 279\u001b[0m     \u001b[38;5;28;43mself\u001b[39;49m\u001b[38;5;241;43m.\u001b[39;49m\u001b[43m_trace\u001b[49m\u001b[43m(\u001b[49m\u001b[43mfirst_sample\u001b[49m\u001b[43m)\u001b[49m\n\u001b[1;32m    280\u001b[0m     \u001b[38;5;28;01massert\u001b[39;00m \u001b[38;5;28mself\u001b[39m\u001b[38;5;241m.\u001b[39mgraph \u001b[38;5;129;01mis\u001b[39;00m \u001b[38;5;129;01mnot\u001b[39;00m \u001b[38;5;28;01mNone\u001b[39;00m\n\u001b[1;32m    282\u001b[0m bounds \u001b[38;5;241m=\u001b[39m \u001b[38;5;28mself\u001b[39m\u001b[38;5;241m.\u001b[39mgraph\u001b[38;5;241m.\u001b[39mmeasure_bounds(\u001b[38;5;28mself\u001b[39m\u001b[38;5;241m.\u001b[39minputset)\n",
      "File \u001b[0;32m~/workspace/fhe-tutorials/TravelRouting/venv/lib/python3.10/site-packages/concrete/fhe/compilation/compiler.py:207\u001b[0m, in \u001b[0;36mCompiler._trace\u001b[0;34m(self, sample)\u001b[0m\n\u001b[1;32m    197\u001b[0m         \u001b[38;5;28mself\u001b[39m\u001b[38;5;241m.\u001b[39martifacts\u001b[38;5;241m.\u001b[39madd_parameter_encryption_status(param, encryption_status)\n\u001b[1;32m    199\u001b[0m parameters \u001b[38;5;241m=\u001b[39m {\n\u001b[1;32m    200\u001b[0m     param: Value\u001b[38;5;241m.\u001b[39mof(arg, is_encrypted\u001b[38;5;241m=\u001b[39m(status \u001b[38;5;241m==\u001b[39m EncryptionStatus\u001b[38;5;241m.\u001b[39mENCRYPTED))\n\u001b[1;32m    201\u001b[0m     \u001b[38;5;28;01mfor\u001b[39;00m arg, (param, status) \u001b[38;5;129;01min\u001b[39;00m \u001b[38;5;28mzip\u001b[39m(\n\u001b[0;32m   (...)\u001b[0m\n\u001b[1;32m    204\u001b[0m     )\n\u001b[1;32m    205\u001b[0m }\n\u001b[0;32m--> 207\u001b[0m \u001b[38;5;28mself\u001b[39m\u001b[38;5;241m.\u001b[39mgraph \u001b[38;5;241m=\u001b[39m \u001b[43mTracer\u001b[49m\u001b[38;5;241;43m.\u001b[39;49m\u001b[43mtrace\u001b[49m\u001b[43m(\u001b[49m\u001b[38;5;28;43mself\u001b[39;49m\u001b[38;5;241;43m.\u001b[39;49m\u001b[43mfunction\u001b[49m\u001b[43m,\u001b[49m\u001b[43m \u001b[49m\u001b[43mparameters\u001b[49m\u001b[43m)\u001b[49m\n\u001b[1;32m    208\u001b[0m \u001b[38;5;28;01mif\u001b[39;00m \u001b[38;5;28mself\u001b[39m\u001b[38;5;241m.\u001b[39martifacts \u001b[38;5;129;01mis\u001b[39;00m \u001b[38;5;129;01mnot\u001b[39;00m \u001b[38;5;28;01mNone\u001b[39;00m:\n\u001b[1;32m    209\u001b[0m     \u001b[38;5;28mself\u001b[39m\u001b[38;5;241m.\u001b[39martifacts\u001b[38;5;241m.\u001b[39madd_graph(\u001b[38;5;124m\"\u001b[39m\u001b[38;5;124minitial\u001b[39m\u001b[38;5;124m\"\u001b[39m, \u001b[38;5;28mself\u001b[39m\u001b[38;5;241m.\u001b[39mgraph)\n",
      "File \u001b[0;32m~/workspace/fhe-tutorials/TravelRouting/venv/lib/python3.10/site-packages/concrete/fhe/tracing/tracer.py:77\u001b[0m, in \u001b[0;36mTracer.trace\u001b[0;34m(function, parameters, is_direct)\u001b[0m\n\u001b[1;32m     74\u001b[0m Tracer\u001b[38;5;241m.\u001b[39m_is_direct \u001b[38;5;241m=\u001b[39m is_direct\n\u001b[1;32m     76\u001b[0m Tracer\u001b[38;5;241m.\u001b[39m_is_tracing \u001b[38;5;241m=\u001b[39m \u001b[38;5;28;01mTrue\u001b[39;00m\n\u001b[0;32m---> 77\u001b[0m output_tracers: Any \u001b[38;5;241m=\u001b[39m \u001b[43mfunction\u001b[49m\u001b[43m(\u001b[49m\u001b[38;5;241;43m*\u001b[39;49m\u001b[38;5;241;43m*\u001b[39;49m\u001b[43marguments\u001b[49m\u001b[43m)\u001b[49m\n\u001b[1;32m     78\u001b[0m Tracer\u001b[38;5;241m.\u001b[39m_is_tracing \u001b[38;5;241m=\u001b[39m \u001b[38;5;28;01mFalse\u001b[39;00m\n\u001b[1;32m     80\u001b[0m \u001b[38;5;28;01mif\u001b[39;00m \u001b[38;5;129;01mnot\u001b[39;00m \u001b[38;5;28misinstance\u001b[39m(output_tracers, \u001b[38;5;28mtuple\u001b[39m):\n",
      "Cell \u001b[0;32mIn[178], line 26\u001b[0m, in \u001b[0;36mknn\u001b[0;34m(distances, k)\u001b[0m\n\u001b[1;32m     23\u001b[0m N, \u001b[38;5;241m=\u001b[39m distances\u001b[38;5;241m.\u001b[39mshape\n\u001b[1;32m     24\u001b[0m result \u001b[38;5;241m=\u001b[39m [\u001b[38;5;241m0\u001b[39m] \u001b[38;5;241m*\u001b[39m N\n\u001b[0;32m---> 26\u001b[0m \u001b[38;5;28;01mfor\u001b[39;00m _ \u001b[38;5;129;01min\u001b[39;00m \u001b[38;5;28;43mrange\u001b[39;49m\u001b[43m(\u001b[49m\u001b[43mk\u001b[49m\u001b[43m)\u001b[49m:\n\u001b[1;32m     27\u001b[0m     \u001b[38;5;66;03m# Get the minimum value of the array\u001b[39;00m\n\u001b[1;32m     28\u001b[0m     minimum \u001b[38;5;241m=\u001b[39m min_int_array(distances)\n\u001b[1;32m     29\u001b[0m     \u001b[38;5;66;03m# Get a selector for the value\u001b[39;00m\n",
      "\u001b[0;31mTypeError\u001b[0m: 'Tracer' object cannot be interpreted as an integer"
     ]
    }
   ],
   "source": [
    "compiler = fhe.Compiler(knn, {\"distances\": \"encrypted\", \"k\": \"clear\"})\n",
    "circuit = compiler.compile([(a, 2)])"
   ]
  },
  {
   "cell_type": "code",
   "execution_count": null,
   "id": "ded5879d-037b-4e25-9734-59421f014794",
   "metadata": {},
   "outputs": [],
   "source": [
    "circuit.encrypt_run_decrypt(a, 2)"
   ]
  },
  {
   "cell_type": "code",
   "execution_count": null,
   "id": "22e74390-a2ec-4cf3-b328-cc382b7520b1",
   "metadata": {},
   "outputs": [],
   "source": []
  }
 ],
 "metadata": {
  "kernelspec": {
   "display_name": "Python 3 (ipykernel)",
   "language": "python",
   "name": "python3"
  },
  "language_info": {
   "codemirror_mode": {
    "name": "ipython",
    "version": 3
   },
   "file_extension": ".py",
   "mimetype": "text/x-python",
   "name": "python",
   "nbconvert_exporter": "python",
   "pygments_lexer": "ipython3",
   "version": "3.10.6"
  }
 },
 "nbformat": 4,
 "nbformat_minor": 5
}
